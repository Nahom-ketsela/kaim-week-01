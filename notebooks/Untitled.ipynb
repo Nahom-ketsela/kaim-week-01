{
 "cells": [
  {
   "cell_type": "code",
   "execution_count": 7,
   "id": "ee994191-8bd3-41f3-9839-dd75aa19531e",
   "metadata": {},
   "outputs": [
    {
     "name": "stdout",
     "output_type": "stream",
     "text": [
      "TA-Lib version: 0.5.1\n"
     ]
    }
   ],
   "source": [
    "#checking the ta-lib installation is correct\n",
    "\n",
    "import talib\n",
    "print(\"TA-Lib version:\", talib.__version__)\n"
   ]
  },
  {
   "cell_type": "code",
   "execution_count": 9,
   "id": "63034e45-b902-4e6d-9dc8-f4b4d042293e",
   "metadata": {},
   "outputs": [
    {
     "name": "stdout",
     "output_type": "stream",
     "text": [
      "        Date      Open      High       Low     Close  Adj Close     Volume  \\\n",
      "0 1980-12-12  0.128348  0.128906  0.128348  0.128348   0.098943  469033600   \n",
      "1 1980-12-15  0.122210  0.122210  0.121652  0.121652   0.093781  175884800   \n",
      "2 1980-12-16  0.113281  0.113281  0.112723  0.112723   0.086898  105728000   \n",
      "3 1980-12-17  0.115513  0.116071  0.115513  0.115513   0.089049   86441600   \n",
      "4 1980-12-18  0.118862  0.119420  0.118862  0.118862   0.091630   73449600   \n",
      "\n",
      "   Dividends  Stock Splits  \n",
      "0        0.0           0.0  \n",
      "1        0.0           0.0  \n",
      "2        0.0           0.0  \n",
      "3        0.0           0.0  \n",
      "4        0.0           0.0  \n"
     ]
    }
   ],
   "source": [
    "import sys\n",
    "import os\n",
    "\n",
    "# Add the 'script' folder to the system path\n",
    "script_path = os.path.abspath('../scripts')  # Adjust the relative path to your 'script' folder\n",
    "sys.path.append(script_path)\n",
    "\n",
    "# Import the module\n",
    "import finance_utils as fu\n",
    "\n",
    "# Load stock price data\n",
    "file_path = 'C:\\\\Users\\\\HP\\\\OneDrive\\\\Desktop\\\\ai2\\\\kaim-week-01\\\\data\\\\AAPL_historical_data.csv'\n",
    "stock_data = fu.load_stock_data(file_path)\n",
    "\n",
    "# Prepare the data\n",
    "prepared_data = fu.prepare_stock_data(stock_data)\n",
    "\n",
    "# Display the first few rows of the processed data\n",
    "print(prepared_data.head())\n"
   ]
  },
  {
   "cell_type": "code",
   "execution_count": null,
   "id": "c9c0d50a-3923-491c-9d4d-bb53a4c735c0",
   "metadata": {},
   "outputs": [],
   "source": []
  }
 ],
 "metadata": {
  "kernelspec": {
   "display_name": "Python 3 (ipykernel)",
   "language": "python",
   "name": "python3"
  },
  "language_info": {
   "codemirror_mode": {
    "name": "ipython",
    "version": 3
   },
   "file_extension": ".py",
   "mimetype": "text/x-python",
   "name": "python",
   "nbconvert_exporter": "python",
   "pygments_lexer": "ipython3",
   "version": "3.12.4"
  }
 },
 "nbformat": 4,
 "nbformat_minor": 5
}
