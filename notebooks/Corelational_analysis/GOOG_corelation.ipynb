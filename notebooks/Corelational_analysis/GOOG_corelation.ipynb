{
 "cells": [
  {
   "cell_type": "code",
   "execution_count": 1,
   "id": "c61db3b8-c609-4f8b-9df9-8f945f29b452",
   "metadata": {},
   "outputs": [],
   "source": [
    "import os  # Import the os module\n",
    "import sys  # Import the sys module\n",
    "\n",
    "# Add the 'scripts' folder to the system path\n",
    "script_path = os.path.abspath('../scripts')  \n",
    "sys.path.append(script_path)\n",
    "\n",
    "# Now import your module\n",
    "import corelational_analysis as ca\n"
   ]
  },
  {
   "cell_type": "code",
   "execution_count": 2,
   "id": "3ed2695b-3ffb-4658-b5e7-40096a1184ba",
   "metadata": {},
   "outputs": [
    {
     "name": "stdout",
     "output_type": "stream",
     "text": [
      "         Date      Open      High       Low     Close  Adj Close     Volume  \\\n",
      "0  2004-08-19  2.490664  2.591785  2.390042  2.499133   2.496292  897427216   \n",
      "1  2004-08-20  2.515820  2.716817  2.503118  2.697639   2.694573  458857488   \n",
      "2  2004-08-23  2.758411  2.826406  2.716070  2.724787   2.721690  366857939   \n",
      "3  2004-08-24  2.770615  2.779581  2.579581  2.611960   2.608991  306396159   \n",
      "4  2004-08-25  2.614201  2.689918  2.587302  2.640104   2.637103  184645512   \n",
      "\n",
      "   Dividends  Stock Splits  \n",
      "0        0.0           0.0  \n",
      "1        0.0           0.0  \n",
      "2        0.0           0.0  \n",
      "3        0.0           0.0  \n",
      "4        0.0           0.0  \n",
      "   Unnamed: 0                                           headline  \\\n",
      "0           0            Stocks That Hit 52-Week Highs On Friday   \n",
      "1           1         Stocks That Hit 52-Week Highs On Wednesday   \n",
      "2           2                      71 Biggest Movers From Friday   \n",
      "3           3       46 Stocks Moving In Friday's Mid-Day Session   \n",
      "4           4  B of A Securities Maintains Neutral on Agilent...   \n",
      "\n",
      "                                                 url          publisher  \\\n",
      "0  https://www.benzinga.com/news/20/06/16190091/s...  Benzinga Insights   \n",
      "1  https://www.benzinga.com/news/20/06/16170189/s...  Benzinga Insights   \n",
      "2  https://www.benzinga.com/news/20/05/16103463/7...         Lisa Levin   \n",
      "3  https://www.benzinga.com/news/20/05/16095921/4...         Lisa Levin   \n",
      "4  https://www.benzinga.com/news/20/05/16095304/b...         Vick Meyer   \n",
      "\n",
      "                        date stock  \n",
      "0  2020-06-05 10:30:54-04:00     A  \n",
      "1  2020-06-03 10:45:20-04:00     A  \n",
      "2  2020-05-26 04:30:07-04:00     A  \n",
      "3  2020-05-22 12:45:06-04:00     A  \n",
      "4  2020-05-22 11:38:59-04:00     A  \n"
     ]
    }
   ],
   "source": [
    "# Define file paths\n",
    "stock_file = 'C:\\\\Users\\\\HP\\\\OneDrive\\\\Desktop\\\\ai2\\\\kaim-week-01\\\\data\\\\GOOG_historical_data.csv'\n",
    "news_file = 'C:\\\\Users\\\\HP\\\\OneDrive\\\\Desktop\\\\ai2\\\\kaim-week-01\\\\data\\\\raw_analyst_ratings.csv'\n",
    "\n",
    "# Load data\n",
    "stock_data, news_data = ca.load_data(stock_file, news_file)\n",
    "\n",
    "# Display the first few rows of each dataset\n",
    "print(stock_data.head())\n",
    "print(news_data.head())\n"
   ]
  },
  {
   "cell_type": "code",
   "execution_count": 3,
   "id": "c79b8940-5b4b-41bb-b777-f835a079f874",
   "metadata": {},
   "outputs": [
    {
     "name": "stdout",
     "output_type": "stream",
     "text": [
      "        date      Open      High       Low     Close  Adj Close     Volume  \\\n",
      "0 2004-08-19  2.490664  2.591785  2.390042  2.499133   2.496292  897427216   \n",
      "1 2004-08-20  2.515820  2.716817  2.503118  2.697639   2.694573  458857488   \n",
      "2 2004-08-23  2.758411  2.826406  2.716070  2.724787   2.721690  366857939   \n",
      "3 2004-08-24  2.770615  2.779581  2.579581  2.611960   2.608991  306396159   \n",
      "4 2004-08-25  2.614201  2.689918  2.587302  2.640104   2.637103  184645512   \n",
      "\n",
      "   Dividends  Stock Splits  \n",
      "0        0.0           0.0  \n",
      "1        0.0           0.0  \n",
      "2        0.0           0.0  \n",
      "3        0.0           0.0  \n",
      "4        0.0           0.0  \n",
      "   Unnamed: 0                                           headline  \\\n",
      "0           0            Stocks That Hit 52-Week Highs On Friday   \n",
      "1           1         Stocks That Hit 52-Week Highs On Wednesday   \n",
      "2           2                      71 Biggest Movers From Friday   \n",
      "3           3       46 Stocks Moving In Friday's Mid-Day Session   \n",
      "4           4  B of A Securities Maintains Neutral on Agilent...   \n",
      "\n",
      "                                                 url          publisher  \\\n",
      "0  https://www.benzinga.com/news/20/06/16190091/s...  Benzinga Insights   \n",
      "1  https://www.benzinga.com/news/20/06/16170189/s...  Benzinga Insights   \n",
      "2  https://www.benzinga.com/news/20/05/16103463/7...         Lisa Levin   \n",
      "3  https://www.benzinga.com/news/20/05/16095921/4...         Lisa Levin   \n",
      "4  https://www.benzinga.com/news/20/05/16095304/b...         Vick Meyer   \n",
      "\n",
      "        date stock  \n",
      "0 2020-06-05     A  \n",
      "1 2020-06-03     A  \n",
      "2 2020-05-26     A  \n",
      "3 2020-05-22     A  \n",
      "4 2020-05-22     A  \n"
     ]
    },
    {
     "name": "stderr",
     "output_type": "stream",
     "text": [
      "C:\\Users\\HP\\OneDrive\\Desktop\\ai2\\kaim-week-01\\scripts\\corelational_analysis.py:30: SettingWithCopyWarning: \n",
      "A value is trying to be set on a copy of a slice from a DataFrame.\n",
      "Try using .loc[row_indexer,col_indexer] = value instead\n",
      "\n",
      "See the caveats in the documentation: https://pandas.pydata.org/pandas-docs/stable/user_guide/indexing.html#returning-a-view-versus-a-copy\n",
      "  news_data['date'] = news_data['date'].dt.tz_localize(None)\n"
     ]
    }
   ],
   "source": [
    "# Preprocess the dates\n",
    "stock_data, news_data = ca.preprocess_dates(stock_data, news_data)\n",
    "\n",
    "# Check the results\n",
    "print(stock_data.head())\n",
    "print(news_data.head())\n",
    "\n"
   ]
  },
  {
   "cell_type": "code",
   "execution_count": 4,
   "id": "bc23a77b-47d5-4193-a0ef-da1a1929c5ac",
   "metadata": {},
   "outputs": [
    {
     "name": "stdout",
     "output_type": "stream",
     "text": [
      "        date      Open      High       Low     Close  Adj Close     Volume  \\\n",
      "0 2004-08-19  2.490664  2.591785  2.390042  2.499133   2.496292  897427216   \n",
      "1 2004-08-20  2.515820  2.716817  2.503118  2.697639   2.694573  458857488   \n",
      "2 2004-08-23  2.758411  2.826406  2.716070  2.724787   2.721690  366857939   \n",
      "3 2004-08-24  2.770615  2.779581  2.579581  2.611960   2.608991  306396159   \n",
      "4 2004-08-25  2.614201  2.689918  2.587302  2.640104   2.637103  184645512   \n",
      "\n",
      "   Dividends  Stock Splits  daily_return  \n",
      "0        0.0           0.0           NaN  \n",
      "1        0.0           0.0      7.942989  \n",
      "2        0.0           0.0      1.006362  \n",
      "3        0.0           0.0     -4.140766  \n",
      "4        0.0           0.0      1.077510  \n"
     ]
    }
   ],
   "source": [
    "# Calculate daily returns\n",
    "stock_data = ca.calculate_daily_returns(stock_data)\n",
    "\n",
    "print(stock_data.head())"
   ]
  },
  {
   "cell_type": "code",
   "execution_count": 5,
   "id": "3cdb1490-f0b4-4e25-b9b0-179ca73a2c38",
   "metadata": {},
   "outputs": [
    {
     "name": "stdout",
     "output_type": "stream",
     "text": [
      "           date                                           headline  sentiment\n",
      "0    2020-06-05            Stocks That Hit 52-Week Highs On Friday   0.000000\n",
      "1    2020-06-03         Stocks That Hit 52-Week Highs On Wednesday   0.000000\n",
      "2    2020-05-26                      71 Biggest Movers From Friday   0.000000\n",
      "3    2020-05-22       46 Stocks Moving In Friday's Mid-Day Session   0.000000\n",
      "4    2020-05-22  B of A Securities Maintains Neutral on Agilent...   0.000000\n",
      "5    2020-05-22  CFRA Maintains Hold on Agilent Technologies, L...   0.000000\n",
      "6    2020-05-22  UBS Maintains Neutral on Agilent Technologies,...   0.000000\n",
      "7    2020-05-22  Agilent Technologies shares are trading higher...   0.250000\n",
      "8    2020-05-22  Wells Fargo Maintains Overweight on Agilent Te...   0.000000\n",
      "9    2020-05-22         10 Biggest Price Target Changes For Friday   0.000000\n",
      "1433 2020-06-09  Shares of several basic material companies are...  -0.035714\n",
      "1434 2020-06-08  Alcoa Seeing Better July Aluminum Shipments Am...   0.500000\n",
      "1435 2020-06-08  Shares of several basic materials companies ar...   0.112879\n",
      "1436 2020-06-05  10 Basic Materials Stocks Moving In Friday's P...   0.000000\n",
      "1437 2020-06-04  Shares of several basic materials are trading ...   0.106250\n",
      "1438 2020-06-03  Shares of several basic material companies are...   0.112500\n",
      "1439 2020-05-27  Shares of several basic materials companies ar...   0.109659\n",
      "1440 2020-05-27  5 Basic Materials Stocks Moving In Wednesday's...   0.000000\n",
      "1441 2020-05-26  Morgan Stanley Maintains Equal-Weight on Alcoa...   0.000000\n",
      "1442 2020-05-18  Shares of several basic materials companies ar...   0.062500\n"
     ]
    }
   ],
   "source": [
    "# Perform sentiment analysis\n",
    "news_data = ca.perform_sentiment_analysis(news_data)\n",
    "\n",
    "# Display sentiment scores\n",
    "print(news_data[['date', 'headline', 'sentiment']].head(20))\n"
   ]
  },
  {
   "cell_type": "code",
   "execution_count": 7,
   "id": "510175a2-5c7e-48f8-9314-9e2b5ae6016f",
   "metadata": {},
   "outputs": [
    {
     "name": "stdout",
     "output_type": "stream",
     "text": [
      "agregated daily sentiment:\n",
      "         date  sentiment\n",
      "0  2011-04-27   0.000000\n",
      "1  2011-04-28   0.068182\n",
      "2  2011-04-29   0.166667\n",
      "3  2011-04-30   0.500000\n",
      "4  2011-05-01   0.000000\n",
      "5  2011-05-02  -0.009259\n",
      "6  2011-05-03   0.000000\n",
      "7  2011-05-05   0.000000\n",
      "8  2011-05-06   0.166667\n",
      "9  2011-05-07   0.250000\n",
      "10 2011-05-09   0.045455\n",
      "11 2011-05-11  -0.029167\n",
      "12 2011-05-12   0.500000\n",
      "13 2011-05-13  -0.077778\n",
      "14 2011-05-15   0.000000\n",
      "15 2011-05-16   0.000000\n",
      "16 2011-05-17   0.000000\n",
      "17 2011-05-18   0.116667\n",
      "18 2011-05-19   0.000000\n",
      "19 2011-05-20   0.000000\n"
     ]
    }
   ],
   "source": [
    "# Perform sentiment analysis\n",
    "daily_sentiment = ca.aggregate_daily_sentiment(news_data)\n",
    "\n",
    "# Display sentiment scores\n",
    "print('agregated daily sentiment:')\n",
    "print(daily_sentiment.head(20))"
   ]
  },
  {
   "cell_type": "code",
   "execution_count": 8,
   "id": "41b9e8d3-7d21-4ee3-afe5-076393be6d2d",
   "metadata": {},
   "outputs": [
    {
     "name": "stdout",
     "output_type": "stream",
     "text": [
      "         date  daily_return  sentiment\n",
      "0  2011-04-27      0.927146   0.000000\n",
      "1  2011-04-28      0.039048   0.068182\n",
      "2  2011-04-29      1.139474   0.166667\n",
      "3  2011-05-02     -1.018199  -0.009259\n",
      "4  2011-05-03     -0.867126   0.000000\n",
      "5  2011-05-05     -0.283693   0.000000\n",
      "6  2011-05-06      0.192779   0.166667\n",
      "7  2011-05-09      0.444608   0.045455\n",
      "8  2011-05-11     -1.328640  -0.029167\n",
      "9  2011-05-12     -0.074699   0.500000\n",
      "10 2011-05-13     -1.027943  -0.077778\n",
      "11 2011-05-16     -2.101786   0.000000\n",
      "12 2011-05-17      2.322443   0.000000\n",
      "13 2011-05-18     -0.122530   0.116667\n",
      "14 2011-05-19      0.271797   0.000000\n",
      "15 2011-05-20     -1.359057   0.000000\n",
      "16 2011-05-23     -1.076281  -0.044444\n",
      "17 2011-05-24     -0.025077   0.075000\n",
      "18 2011-05-25      0.272070   0.261111\n",
      "19 2011-05-26     -0.296354   0.000000\n"
     ]
    }
   ],
   "source": [
    "# Merge datasets\n",
    "merged_data = ca.merge_data(stock_data, daily_sentiment)\n",
    "\n",
    "# Display the merged data\n",
    "print(merged_data.head(20))"
   ]
  },
  {
   "cell_type": "code",
   "execution_count": 9,
   "id": "d62dcac5-d990-4c67-a4ab-764943cecb67",
   "metadata": {},
   "outputs": [
    {
     "name": "stdout",
     "output_type": "stream",
     "text": [
      "Pearson between Correlation: 0.014278287212909585, p-value: 0.5007483576051762\n"
     ]
    }
   ],
   "source": [
    "# Calculate Pearson correlation\n",
    "correlation, p_value = ca.calculate_correlation(merged_data)\n",
    "\n",
    "# Display correlation results\n",
    "print(f'Pearson between Correlation: {correlation}, p-value: {p_value}')"
   ]
  },
  {
   "cell_type": "code",
   "execution_count": null,
   "id": "05d0d0d0-8b50-437b-a37f-4acc7dba7e5a",
   "metadata": {},
   "outputs": [],
   "source": []
  }
 ],
 "metadata": {
  "kernelspec": {
   "display_name": "Python (.venv)",
   "language": "python",
   "name": ".venv"
  },
  "language_info": {
   "codemirror_mode": {
    "name": "ipython",
    "version": 3
   },
   "file_extension": ".py",
   "mimetype": "text/x-python",
   "name": "python",
   "nbconvert_exporter": "python",
   "pygments_lexer": "ipython3",
   "version": "3.13.1"
  }
 },
 "nbformat": 4,
 "nbformat_minor": 5
}
