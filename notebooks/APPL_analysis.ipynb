{
 "cells": [
  {
   "cell_type": "code",
   "execution_count": 7,
   "id": "ee994191-8bd3-41f3-9839-dd75aa19531e",
   "metadata": {},
   "outputs": [
    {
     "name": "stdout",
     "output_type": "stream",
     "text": [
      "TA-Lib version: 0.5.1\n"
     ]
    }
   ],
   "source": [
    "#checking the ta-lib installation is correct\n",
    "\n",
    "import talib\n",
    "print(\"TA-Lib version:\", talib.__version__)\n"
   ]
  },
  {
   "cell_type": "code",
   "execution_count": 16,
   "id": "63034e45-b902-4e6d-9dc8-f4b4d042293e",
   "metadata": {},
   "outputs": [
    {
     "name": "stdout",
     "output_type": "stream",
     "text": [
      "        Date      Open      High       Low     Close  Adj Close     Volume  \\\n",
      "0 1980-12-12  0.128348  0.128906  0.128348  0.128348   0.098943  469033600   \n",
      "1 1980-12-15  0.122210  0.122210  0.121652  0.121652   0.093781  175884800   \n",
      "2 1980-12-16  0.113281  0.113281  0.112723  0.112723   0.086898  105728000   \n",
      "3 1980-12-17  0.115513  0.116071  0.115513  0.115513   0.089049   86441600   \n",
      "4 1980-12-18  0.118862  0.119420  0.118862  0.118862   0.091630   73449600   \n",
      "\n",
      "   Dividends  Stock Splits  \n",
      "0        0.0           0.0  \n",
      "1        0.0           0.0  \n",
      "2        0.0           0.0  \n",
      "3        0.0           0.0  \n",
      "4        0.0           0.0  \n"
     ]
    }
   ],
   "source": [
    "import sys\n",
    "import os\n",
    "\n",
    "# Add the 'scripts' folder to the system path\n",
    "script_path = os.path.abspath('../scripts')  \n",
    "sys.path.append(script_path)\n",
    "\n",
    "# Importing the module\n",
    "import finance_utils as fu\n",
    "\n",
    "# Loading stock price data\n",
    "file_path = 'C:\\\\Users\\\\HP\\\\OneDrive\\\\Desktop\\\\ai2\\\\kaim-week-01\\\\data\\\\AAPL_historical_data.csv'\n",
    "stock_data = fu.load_stock_data(file_path)\n",
    "\n",
    "# Prepare the data\n",
    "prepared_data = fu.prepare_stock_data(stock_data) \n",
    "\n",
    "\n",
    "# Display the first few rows of the processed data\n",
    "print(prepared_data.head())\n"
   ]
  },
  {
   "cell_type": "code",
   "execution_count": 19,
   "id": "c9c0d50a-3923-491c-9d4d-bb53a4c735c0",
   "metadata": {},
   "outputs": [
    {
     "name": "stdout",
     "output_type": "stream",
     "text": [
      "         Date      Open      High       Low     Close  Adj Close     Volume  \\\n",
      "57 1981-03-06  0.115513  0.115513  0.114397  0.114397   0.088188   11603200   \n",
      "58 1981-03-09  0.106027  0.106027  0.105469  0.105469   0.081306   15321600   \n",
      "59 1981-03-10  0.101004  0.101004  0.100446  0.100446   0.077434   28380800   \n",
      "60 1981-03-11  0.097656  0.097656  0.096540  0.096540   0.074422   29859200   \n",
      "61 1981-03-12  0.100446  0.101004  0.100446  0.100446   0.077434   59248000   \n",
      "62 1981-03-13  0.099888  0.099888  0.099330  0.099330   0.076573  231302400   \n",
      "63 1981-03-16  0.103237  0.104353  0.103237  0.103237   0.079585   37228800   \n",
      "64 1981-03-17  0.108259  0.109375  0.108259  0.108259   0.083457   43747200   \n",
      "65 1981-03-18  0.114955  0.116071  0.114955  0.114955   0.088619   36937600   \n",
      "66 1981-03-19  0.114397  0.114397  0.113839  0.113839   0.087758   37811200   \n",
      "\n",
      "    Dividends  Stock Splits    SMA_20        RSI  BB_upper  BB_middle  \\\n",
      "57        0.0           0.0  0.116211  37.351721  0.126067   0.116211   \n",
      "58        0.0           0.0  0.115067  30.303257  0.124315   0.115067   \n",
      "59        0.0           0.0  0.114007  27.194035  0.124736   0.114007   \n",
      "60        0.0           0.0  0.112751  25.042291  0.125326   0.112751   \n",
      "61        0.0           0.0  0.111886  30.928060  0.125319   0.111886   \n",
      "62        0.0           0.0  0.111021  30.198455  0.125320   0.111021   \n",
      "63        0.0           0.0  0.110491  35.899575  0.125116   0.110491   \n",
      "64        0.0           0.0  0.110072  42.410677  0.124447   0.110072   \n",
      "65        0.0           0.0  0.109738  49.741120  0.123307   0.109738   \n",
      "66        0.0           0.0  0.109710  48.630087  0.123243   0.109710   \n",
      "\n",
      "    BB_lower  \n",
      "57  0.106355  \n",
      "58  0.105819  \n",
      "59  0.103278  \n",
      "60  0.100176  \n",
      "61  0.098454  \n",
      "62  0.096722  \n",
      "63  0.095866  \n",
      "64  0.095698  \n",
      "65  0.096168  \n",
      "66  0.096176  \n"
     ]
    }
   ],
   "source": [
    "# Import the module\n",
    "import technical_analysis as ta\n",
    "\n",
    "# Add a 20-day Simple Moving Average (SMA) to the prepared data\n",
    "prepared_data = ta.add_sma(prepared_data, period=20)\n",
    "\n",
    "# Add a 14-day Relative Strength Index (RSI) to the prepared data\n",
    "prepared_data = ta.add_rsi(prepared_data, period=14)\n",
    "\n",
    "# Add Bollinger Bands to the prepared data\n",
    "prepared_data = ta.add_bollinger_bands(prepared_data, period=20)\n",
    "\n",
    "# To handle NaN values\n",
    "prepared_data = prepared_data.dropna()\n",
    "\n",
    "# Display the first few rows\n",
    "print(prepared_data.head(10))\n"
   ]
  },
  {
   "cell_type": "code",
   "execution_count": null,
   "id": "93a1090e-6dca-4d22-8acc-0c679750e666",
   "metadata": {},
   "outputs": [],
   "source": []
  }
 ],
 "metadata": {
  "kernelspec": {
   "display_name": "Python 3 (ipykernel)",
   "language": "python",
   "name": "python3"
  },
  "language_info": {
   "codemirror_mode": {
    "name": "ipython",
    "version": 3
   },
   "file_extension": ".py",
   "mimetype": "text/x-python",
   "name": "python",
   "nbconvert_exporter": "python",
   "pygments_lexer": "ipython3",
   "version": "3.12.4"
  }
 },
 "nbformat": 4,
 "nbformat_minor": 5
}
